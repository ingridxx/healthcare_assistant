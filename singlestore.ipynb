{
 "cells": [
  {
   "cell_type": "markdown",
   "id": "14d80362",
   "metadata": {},
   "source": [
    "## Create chat_messages table"
   ]
  },
  {
   "cell_type": "code",
   "execution_count": null,
   "id": "062915dc",
   "metadata": {},
   "outputs": [],
   "source": [
    "%%sql\n",
    "CREATE TABLE chat_messages (\n",
    "    event_id VARCHAR(255) PRIMARY KEY,  \n",
    "    chat_id VARCHAR(255),\n",
    "    timestamp datetime(6),\n",
    "    emotion_features JSON,\n",
    "    message_text TEXT,\n",
    "    shard key(event_id),\n",
    "    sort key(timestamp)\n",
    ");"
   ]
  },
  {
   "attachments": {},
   "cell_type": "markdown",
   "id": "033821e8-1b6e-499b-b700-06bc6ff8e956",
   "metadata": {
    "language": "sql"
   },
   "source": [
    "## Create vitals table"
   ]
  },
  {
   "cell_type": "code",
   "execution_count": 4,
   "id": "ba3c1d35-83d2-4809-9a20-8be46eeee126",
   "metadata": {
    "execution": {
     "iopub.execute_input": "2024-12-03T18:46:49.931331Z",
     "iopub.status.busy": "2024-12-03T18:46:49.926876Z",
     "iopub.status.idle": "2024-12-03T18:46:53.327180Z",
     "shell.execute_reply": "2024-12-03T18:46:53.326310Z",
     "shell.execute_reply.started": "2024-12-03T18:46:49.931261Z"
    },
    "language": "sql",
    "trusted": true
   },
   "outputs": [
    {
     "data": {
      "text/html": [
       "<table>\n",
       "    <thead>\n",
       "        <tr>\n",
       "        </tr>\n",
       "    </thead>\n",
       "    <tbody>\n",
       "    </tbody>\n",
       "</table>"
      ],
      "text/plain": [
       "++\n",
       "||\n",
       "++\n",
       "++"
      ]
     },
     "execution_count": 4,
     "metadata": {},
     "output_type": "execute_result"
    }
   ],
   "source": [
    "%%sql\n",
    "CREATE TABLE vitals (\n",
    "    patient_id INT,\n",
    "    timestamp TIMESTAMP,\n",
    "    heart_rate INT,\n",
    "    blood_pressure VARCHAR(10),\n",
    "    glucose_level DECIMAL(5,2),\n",
    "    activity_level VARCHAR(20),\n",
    "    SHARD KEY (patient_id, timestamp)\n",
    ");"
   ]
  },
  {
   "cell_type": "markdown",
   "id": "6c9e6ec5",
   "metadata": {},
   "source": [
    "## Create Kafka Pipeline"
   ]
  },
  {
   "cell_type": "markdown",
   "id": "b4bdd34f",
   "metadata": {},
   "source": [
    "Here we're using a Python script that generates mock vitals data in a loop, and an EC2 Kafka instance."
   ]
  },
  {
   "cell_type": "code",
   "execution_count": null,
   "id": "4c115efb-d6bf-4019-b71c-0d84eb2acfd7",
   "metadata": {
    "execution": {
     "iopub.execute_input": "2024-12-03T19:21:43.852907Z",
     "iopub.status.busy": "2024-12-03T19:21:43.852522Z",
     "iopub.status.idle": "2024-12-03T19:21:44.122775Z",
     "shell.execute_reply": "2024-12-03T19:21:44.118926Z",
     "shell.execute_reply.started": "2024-12-03T19:21:43.852872Z"
    },
    "language": "sql",
    "trusted": true
   },
   "outputs": [
    {
     "data": {
      "text/html": [
       "<table>\n",
       "    <thead>\n",
       "        <tr>\n",
       "        </tr>\n",
       "    </thead>\n",
       "    <tbody>\n",
       "    </tbody>\n",
       "</table>"
      ],
      "text/plain": [
       "++\n",
       "||\n",
       "++\n",
       "++"
      ]
     },
     "execution_count": 159,
     "metadata": {},
     "output_type": "execute_result"
    }
   ],
   "source": [
    "%%sql\n",
    "CREATE PIPELINE vitals AS\n",
    "LOAD DATA KAFKA '52.8.79.152/health_metrics' -- replace with your kafka broker endpoint\n",
    "INTO TABLE vitals\n",
    "format JSON;"
   ]
  },
  {
   "cell_type": "code",
   "execution_count": 160,
   "id": "0eb24ce3-6f63-4093-a906-cecc30b4b3f9",
   "metadata": {
    "execution": {
     "iopub.execute_input": "2024-12-03T19:21:47.468855Z",
     "iopub.status.busy": "2024-12-03T19:21:47.468063Z",
     "iopub.status.idle": "2024-12-03T19:21:47.613370Z",
     "shell.execute_reply": "2024-12-03T19:21:47.612704Z",
     "shell.execute_reply.started": "2024-12-03T19:21:47.468815Z"
    },
    "language": "sql",
    "trusted": true
   },
   "outputs": [
    {
     "data": {
      "text/html": [
       "<table>\n",
       "    <thead>\n",
       "        <tr>\n",
       "        </tr>\n",
       "    </thead>\n",
       "    <tbody>\n",
       "    </tbody>\n",
       "</table>"
      ],
      "text/plain": [
       "++\n",
       "||\n",
       "++\n",
       "++"
      ]
     },
     "execution_count": 160,
     "metadata": {},
     "output_type": "execute_result"
    }
   ],
   "source": [
    "%%sql\n",
    "start pipeline vitals"
   ]
  },
  {
   "cell_type": "code",
   "execution_count": 200,
   "id": "fb1c2019-c3f9-4813-b2e1-644d2bb306d3",
   "metadata": {
    "execution": {
     "iopub.execute_input": "2024-12-03T19:30:37.477730Z",
     "iopub.status.busy": "2024-12-03T19:30:37.477163Z",
     "iopub.status.idle": "2024-12-03T19:30:37.642563Z",
     "shell.execute_reply": "2024-12-03T19:30:37.641561Z",
     "shell.execute_reply.started": "2024-12-03T19:30:37.477678Z"
    },
    "language": "sql",
    "trusted": true
   },
   "outputs": [
    {
     "data": {
      "text/html": [
       "<span style=\"color: green\">20 rows affected.</span>"
      ],
      "text/plain": [
       "20 rows affected."
      ]
     },
     "metadata": {},
     "output_type": "display_data"
    },
    {
     "data": {
      "text/html": [
       "<table>\n",
       "    <thead>\n",
       "        <tr>\n",
       "            <th>patient_id</th>\n",
       "            <th>timestamp</th>\n",
       "            <th>heart_rate</th>\n",
       "            <th>blood_pressure</th>\n",
       "            <th>glucose_level</th>\n",
       "            <th>activity_level</th>\n",
       "        </tr>\n",
       "    </thead>\n",
       "    <tbody>\n",
       "        <tr>\n",
       "            <td>148</td>\n",
       "            <td>2024-12-03 11:18:06</td>\n",
       "            <td>94</td>\n",
       "            <td>120/80</td>\n",
       "            <td>163.00</td>\n",
       "            <td>active</td>\n",
       "        </tr>\n",
       "        <tr>\n",
       "            <td>610</td>\n",
       "            <td>2024-12-03 11:30:24</td>\n",
       "            <td>65</td>\n",
       "            <td>140/90</td>\n",
       "            <td>118.00</td>\n",
       "            <td>very active</td>\n",
       "        </tr>\n",
       "        <tr>\n",
       "            <td>103</td>\n",
       "            <td>2024-12-03 11:18:06</td>\n",
       "            <td>66</td>\n",
       "            <td>140/90</td>\n",
       "            <td>168.00</td>\n",
       "            <td>light</td>\n",
       "        </tr>\n",
       "        <tr>\n",
       "            <td>814</td>\n",
       "            <td>2024-12-03 11:30:26</td>\n",
       "            <td>70</td>\n",
       "            <td>120/80</td>\n",
       "            <td>91.00</td>\n",
       "            <td>active</td>\n",
       "        </tr>\n",
       "        <tr>\n",
       "            <td>343</td>\n",
       "            <td>2024-12-03 11:30:20</td>\n",
       "            <td>95</td>\n",
       "            <td>130/85</td>\n",
       "            <td>154.00</td>\n",
       "            <td>active</td>\n",
       "        </tr>\n",
       "        <tr>\n",
       "            <td>430</td>\n",
       "            <td>2024-12-03 11:30:23</td>\n",
       "            <td>69</td>\n",
       "            <td>120/80</td>\n",
       "            <td>165.00</td>\n",
       "            <td>active</td>\n",
       "        </tr>\n",
       "        <tr>\n",
       "            <td>940</td>\n",
       "            <td>2024-12-03 11:30:17</td>\n",
       "            <td>68</td>\n",
       "            <td>140/90</td>\n",
       "            <td>107.00</td>\n",
       "            <td>active</td>\n",
       "        </tr>\n",
       "        <tr>\n",
       "            <td>917</td>\n",
       "            <td>2024-12-03 11:30:21</td>\n",
       "            <td>90</td>\n",
       "            <td>130/85</td>\n",
       "            <td>106.00</td>\n",
       "            <td>active</td>\n",
       "        </tr>\n",
       "        <tr>\n",
       "            <td>813</td>\n",
       "            <td>2024-12-03 11:30:22</td>\n",
       "            <td>73</td>\n",
       "            <td>140/90</td>\n",
       "            <td>125.00</td>\n",
       "            <td>moderate</td>\n",
       "        </tr>\n",
       "        <tr>\n",
       "            <td>959</td>\n",
       "            <td>2024-12-03 11:18:06</td>\n",
       "            <td>95</td>\n",
       "            <td>150/95</td>\n",
       "            <td>103.00</td>\n",
       "            <td>light</td>\n",
       "        </tr>\n",
       "        <tr>\n",
       "            <td>393</td>\n",
       "            <td>2024-12-03 11:18:06</td>\n",
       "            <td>93</td>\n",
       "            <td>110/70</td>\n",
       "            <td>106.00</td>\n",
       "            <td>active</td>\n",
       "        </tr>\n",
       "        <tr>\n",
       "            <td>411</td>\n",
       "            <td>2024-12-03 11:30:25</td>\n",
       "            <td>88</td>\n",
       "            <td>120/80</td>\n",
       "            <td>82.00</td>\n",
       "            <td>sedentary</td>\n",
       "        </tr>\n",
       "        <tr>\n",
       "            <td>67</td>\n",
       "            <td>2024-12-03 11:30:18</td>\n",
       "            <td>78</td>\n",
       "            <td>140/90</td>\n",
       "            <td>83.00</td>\n",
       "            <td>light</td>\n",
       "        </tr>\n",
       "        <tr>\n",
       "            <td>190</td>\n",
       "            <td>2024-12-03 11:18:06</td>\n",
       "            <td>78</td>\n",
       "            <td>150/95</td>\n",
       "            <td>143.00</td>\n",
       "            <td>moderate</td>\n",
       "        </tr>\n",
       "        <tr>\n",
       "            <td>446</td>\n",
       "            <td>2024-12-03 11:30:19</td>\n",
       "            <td>68</td>\n",
       "            <td>120/80</td>\n",
       "            <td>85.00</td>\n",
       "            <td>active</td>\n",
       "        </tr>\n",
       "        <tr>\n",
       "            <td>314</td>\n",
       "            <td>2024-12-03 11:18:06</td>\n",
       "            <td>77</td>\n",
       "            <td>140/90</td>\n",
       "            <td>93.00</td>\n",
       "            <td>sedentary</td>\n",
       "        </tr>\n",
       "        <tr>\n",
       "            <td>971</td>\n",
       "            <td>2024-12-03 11:18:06</td>\n",
       "            <td>90</td>\n",
       "            <td>130/85</td>\n",
       "            <td>104.00</td>\n",
       "            <td>light</td>\n",
       "        </tr>\n",
       "        <tr>\n",
       "            <td>408</td>\n",
       "            <td>2024-12-03 11:18:06</td>\n",
       "            <td>62</td>\n",
       "            <td>120/80</td>\n",
       "            <td>122.00</td>\n",
       "            <td>sedentary</td>\n",
       "        </tr>\n",
       "        <tr>\n",
       "            <td>570</td>\n",
       "            <td>2024-12-03 11:18:06</td>\n",
       "            <td>66</td>\n",
       "            <td>110/70</td>\n",
       "            <td>111.00</td>\n",
       "            <td>very active</td>\n",
       "        </tr>\n",
       "        <tr>\n",
       "            <td>300</td>\n",
       "            <td>2024-12-03 11:18:06</td>\n",
       "            <td>74</td>\n",
       "            <td>130/85</td>\n",
       "            <td>132.00</td>\n",
       "            <td>active</td>\n",
       "        </tr>\n",
       "    </tbody>\n",
       "</table>"
      ],
      "text/plain": [
       "+------------+---------------------+------------+----------------+---------------+----------------+\n",
       "| patient_id |      timestamp      | heart_rate | blood_pressure | glucose_level | activity_level |\n",
       "+------------+---------------------+------------+----------------+---------------+----------------+\n",
       "|    148     | 2024-12-03 11:18:06 |     94     |     120/80     |     163.00    |     active     |\n",
       "|    610     | 2024-12-03 11:30:24 |     65     |     140/90     |     118.00    |  very active   |\n",
       "|    103     | 2024-12-03 11:18:06 |     66     |     140/90     |     168.00    |     light      |\n",
       "|    814     | 2024-12-03 11:30:26 |     70     |     120/80     |     91.00     |     active     |\n",
       "|    343     | 2024-12-03 11:30:20 |     95     |     130/85     |     154.00    |     active     |\n",
       "|    430     | 2024-12-03 11:30:23 |     69     |     120/80     |     165.00    |     active     |\n",
       "|    940     | 2024-12-03 11:30:17 |     68     |     140/90     |     107.00    |     active     |\n",
       "|    917     | 2024-12-03 11:30:21 |     90     |     130/85     |     106.00    |     active     |\n",
       "|    813     | 2024-12-03 11:30:22 |     73     |     140/90     |     125.00    |    moderate    |\n",
       "|    959     | 2024-12-03 11:18:06 |     95     |     150/95     |     103.00    |     light      |\n",
       "|    393     | 2024-12-03 11:18:06 |     93     |     110/70     |     106.00    |     active     |\n",
       "|    411     | 2024-12-03 11:30:25 |     88     |     120/80     |     82.00     |   sedentary    |\n",
       "|     67     | 2024-12-03 11:30:18 |     78     |     140/90     |     83.00     |     light      |\n",
       "|    190     | 2024-12-03 11:18:06 |     78     |     150/95     |     143.00    |    moderate    |\n",
       "|    446     | 2024-12-03 11:30:19 |     68     |     120/80     |     85.00     |     active     |\n",
       "|    314     | 2024-12-03 11:18:06 |     77     |     140/90     |     93.00     |   sedentary    |\n",
       "|    971     | 2024-12-03 11:18:06 |     90     |     130/85     |     104.00    |     light      |\n",
       "|    408     | 2024-12-03 11:18:06 |     62     |     120/80     |     122.00    |   sedentary    |\n",
       "|    570     | 2024-12-03 11:18:06 |     66     |     110/70     |     111.00    |  very active   |\n",
       "|    300     | 2024-12-03 11:18:06 |     74     |     130/85     |     132.00    |     active     |\n",
       "+------------+---------------------+------------+----------------+---------------+----------------+"
      ]
     },
     "execution_count": 200,
     "metadata": {},
     "output_type": "execute_result"
    }
   ],
   "source": [
    "%%sql\n",
    "select * from vitals;"
   ]
  }
 ],
 "metadata": {
  "jupyterlab": {
   "notebooks": {
    "version_major": 6,
    "version_minor": 4
   }
  },
  "kernelspec": {
   "display_name": "Python 3 (ipykernel)",
   "language": "python",
   "name": "python3"
  },
  "language_info": {
   "codemirror_mode": {
    "name": "ipython",
    "version": 3
   },
   "file_extension": ".py",
   "mimetype": "text/x-python",
   "name": "python",
   "nbconvert_exporter": "python",
   "pygments_lexer": "ipython3",
   "version": "3.11.9"
  },
  "singlestore_cell_default_language": "sql",
  "singlestore_connection": {
   "connectionID": "",
   "defaultDatabase": ""
  },
  "singlestore_row_limit": 300
 },
 "nbformat": 4,
 "nbformat_minor": 5
}
